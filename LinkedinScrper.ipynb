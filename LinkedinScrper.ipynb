{
 "cells": [
  {
   "cell_type": "code",
   "execution_count": 1,
   "metadata": {},
   "outputs": [],
   "source": [
    "from selenium import webdriver\n",
    "from selenium.webdriver.chrome.options import Options\n",
    "import time\n",
    "import re\n",
    "import pandas as pd\n",
    "from tqdm.notebook import trange, tqdm"
   ]
  },
  {
   "cell_type": "code",
   "execution_count": 2,
   "metadata": {},
   "outputs": [],
   "source": [
    "url = 'https://www.linkedin.com/jobs/search?keywords=Machine%20Learning&location=Milan&geoId=&trk=public_jobs_jobs-search-bar_search-submit&position=1&pageNum=0'"
   ]
  },
  {
   "cell_type": "code",
   "execution_count": 3,
   "metadata": {},
   "outputs": [],
   "source": [
    "def get_info_di(job, wd, rec, p_limit=2):\n",
    "        \"\"\"\n",
    "        Simple utility function to scrape the various job infos\n",
    "        from Linkedin\n",
    "        \"\"\"\n",
    "        if rec<p_limit:\n",
    "            try:\n",
    "                info_di = {\n",
    "                    'id' : job.id,\n",
    "                    'title' : job.find_element_by_css_selector('h3').get_attribute('innerText'),\n",
    "                    'company_name' : job.find_element_by_css_selector('h4').get_attribute('innerText'),\n",
    "                    'location' : job.find_element_by_css_selector('[class=\"job-search'+\n",
    "                                                                  '-card__location\"]').get_attribute('innerText'),\n",
    "                    'date_posted' : job.find_element_by_css_selector('div>div>time').get_attribute('datetime'),\n",
    "                    'link' : job.find_element_by_css_selector('a').get_attribute('href'),\n",
    "                    'description' : job.find_element_by_xpath('/html/body/div[1]/div/section'+\n",
    "                                                              '/div[2]/section[2]').get_attribute('innerText')\n",
    "                }\n",
    "\n",
    "                e_infos = wd.find_element_by_xpath('/html/body/div[1]/div/section/div[2]/section[2]/ul').text.splitlines()\n",
    "                for i in range(0, len(e_infos), 2):\n",
    "                    info_di[e_infos[i]] = e_infos[i+1]\n",
    "\n",
    "                return info_di\n",
    "\n",
    "            except:\n",
    "                get_info_di(job, wd, rec+1)\n",
    "                time.sleep(5)\n",
    "                \n",
    "        return {}"
   ]
  },
  {
   "cell_type": "code",
   "execution_count": 4,
   "metadata": {},
   "outputs": [],
   "source": [
    "def scrape_linkedin(url, verbose=1):\n",
    "    \n",
    "    if verbose:\n",
    "        print('Beginning WebScraping Procedure')\n",
    "\n",
    "    chrome_options = Options()\n",
    "    chrome_options.add_argument(\"--window-size=1920,1080\")\n",
    "    wd = webdriver.Chrome('Driver/chromedriver.exe', options=chrome_options)\n",
    "    wd.get(url)\n",
    "\n",
    "    s = wd.find_element_by_css_selector('h1>span').get_attribute('innerText')\n",
    "    no_of_jobs = int(re.sub(r'[^\\w]', '', s))\n",
    "\n",
    "    i = 2\n",
    "    while i <= int(no_of_jobs/25)+1:\n",
    "        wd.execute_script('window.scrollTo(0, document.body.scrollHeight);')\n",
    "        i = i + 1\n",
    "        time.sleep(3)\n",
    "        try:\n",
    "            wd.find_element_by_xpath('//*[@id=\"main-content\"]/section[2]/button').click()\n",
    "        except:\n",
    "            pass\n",
    "\n",
    "    cookies = wd.find_element_by_xpath('//*[@id=\"artdeco-global-alert-container\"]/div/section/div/div[2]/button[2]').click()\n",
    "    job_lists = wd.find_element_by_class_name('jobs-search__results-list')\n",
    "    jobs = job_lists.find_elements_by_tag_name('li') # return a list\n",
    "    \n",
    "    if verbose:\n",
    "        print('Collecting infos')\n",
    "    \n",
    "    wd.execute_script('window.scrollTo(0, document.body.scrollHeight);')\n",
    "    time.sleep(3)\n",
    "    job_info = []\n",
    "    for job in tqdm(jobs):\n",
    "\n",
    "        job.click() \n",
    "        time.sleep(3)\n",
    "        di = get_info_di(job, wd, rec=0)\n",
    "        job_info.append(di)\n",
    "        \n",
    "    df = pd.DataFrame(job_info)\n",
    "    \n",
    "    return df"
   ]
  },
  {
   "cell_type": "code",
   "execution_count": 5,
   "metadata": {},
   "outputs": [
    {
     "name": "stdout",
     "output_type": "stream",
     "text": [
      "Beginning WebScraping Procedure\n",
      "Collecting infos\n"
     ]
    },
    {
     "data": {
      "application/vnd.jupyter.widget-view+json": {
       "model_id": "4243295ba244485696cde03747466847",
       "version_major": 2,
       "version_minor": 0
      },
      "text/plain": [
       "HBox(children=(HTML(value=''), FloatProgress(value=0.0, max=454.0), HTML(value='')))"
      ]
     },
     "metadata": {},
     "output_type": "display_data"
    },
    {
     "name": "stdout",
     "output_type": "stream",
     "text": [
      "\n"
     ]
    }
   ],
   "source": [
    "df = scrape_linkedin(url)"
   ]
  },
  {
   "cell_type": "code",
   "execution_count": 13,
   "metadata": {},
   "outputs": [
    {
     "data": {
      "text/plain": [
       "Full-time     427\n",
       "Contract       12\n",
       "Internship      7\n",
       "Temporary       1\n",
       "Name: Employment type, dtype: int64"
      ]
     },
     "execution_count": 13,
     "metadata": {},
     "output_type": "execute_result"
    }
   ],
   "source": [
    "df['Employment type'].value_counts()"
   ]
  },
  {
   "cell_type": "code",
   "execution_count": 19,
   "metadata": {},
   "outputs": [],
   "source": [
    "df.to_csv('Data/DataScienceMilano.csv', index=False)"
   ]
  },
  {
   "cell_type": "code",
   "execution_count": null,
   "metadata": {},
   "outputs": [],
   "source": []
  },
  {
   "cell_type": "code",
   "execution_count": null,
   "metadata": {},
   "outputs": [],
   "source": []
  }
 ],
 "metadata": {
  "kernelspec": {
   "display_name": "Python 3",
   "language": "python",
   "name": "python3"
  },
  "language_info": {
   "codemirror_mode": {
    "name": "ipython",
    "version": 3
   },
   "file_extension": ".py",
   "mimetype": "text/x-python",
   "name": "python",
   "nbconvert_exporter": "python",
   "pygments_lexer": "ipython3",
   "version": "3.8.5"
  }
 },
 "nbformat": 4,
 "nbformat_minor": 4
}
